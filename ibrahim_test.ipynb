{
 "cells": [
  {
   "cell_type": "markdown",
   "id": "7e8bb997",
   "metadata": {},
   "source": [
    "### Imports"
   ]
  },
  {
   "cell_type": "code",
   "execution_count": 2,
   "id": "0c3b4366",
   "metadata": {},
   "outputs": [],
   "source": [
    "import sys\n",
    "import time\n",
    "import numpy as np\n",
    "import matplotlib.pyplot as plt\n",
    "from collections import defaultdict\n",
    "from scipy.optimize import minimize\n",
    "from tqdm import tqdm\n",
    "\n",
    "from qiskit import transpile\n",
    "from qiskit.quantum_info import SparsePauliOp\n",
    "from qiskit.transpiler.passes import LightCone, RemoveBarriers\n",
    "from qiskit.transpiler.preset_passmanagers import generate_preset_pass_manager\n",
    "from qiskit.circuit.library import QAOAAnsatz\n",
    "from qiskit.circuit import QuantumCircuit, ParameterVector\n",
    "from qiskit.converters import circuit_to_dag, dag_to_circuit\n",
    "from qiskit_ibm_runtime import QiskitRuntimeService\n",
    "from qiskit_aer.primitives import EstimatorV2, SamplerV2\n",
    "from qiskit_aer.noise import NoiseModel\n",
    "\n",
    "sys.path.append(\"..\")\n",
    "from scripts.utils.kp_utils import generate_inversely_strongly_correlated, convert_bitstring_to_values, compute_approximate_ratio, convert_bitstring_to_values\n",
    "from qkp_solver import QKPOptimizer\n",
    "from scripts.utils.visualize import plot_multiple_distributions\n",
    "from ADMM.scripts.solvers.classical_solver_UC import gurobi_knapsack_solver"
   ]
  },
  {
   "cell_type": "markdown",
   "id": "f422154d",
   "metadata": {},
   "source": [
    "### Connect to backend"
   ]
  },
  {
   "cell_type": "code",
   "execution_count": null,
   "id": "b8c7fd4f",
   "metadata": {},
   "outputs": [
    {
     "name": "stdout",
     "output_type": "stream",
     "text": [
      "Backend Connected.\n"
     ]
    }
   ],
   "source": [
    "service = QiskitRuntimeService(name='')\n",
    "backend = service.backend('ibm_torino')\n",
    "print(\"Backend Connected.\")"
   ]
  },
  {
   "cell_type": "code",
   "execution_count": 5,
   "id": "8d5076de",
   "metadata": {},
   "outputs": [],
   "source": [
    "from qiskit.transpiler import generate_preset_pass_manager\n",
    "\n",
    "pm = generate_preset_pass_manager(optimization_level=3, backend=backend)\n",
    "n = 104 # number of qubits\n",
    "shots = 100_000 # number of shots\n",
    "p = 1 # number of layers for the QAOA circuit\n",
    "load_factor = 0.8  # if set to None; random load between [0.25-0.75] max weight\n",
    "light_cone = True\n",
    "full_circuit_optimization = False\n",
    "func_distribution = generate_inversely_strongly_correlated\n",
    "transpilation_level = 3\n",
    "\n",
    "k_range = 5  # Simplified from np.arange(10, 24, 1)\n",
    "theta_range = [-1]  # Simplified from [0, -0.5, -1]\n",
    "bit_mapping = 'regular' # choose 'inverse' to solve UC\n",
    "\n",
    "# Generate values and weights for the current distributioné\n",
    "v, w = func_distribution(n)\n",
    "c = np.ceil(load_factor * sum(w)).astype(int)"
   ]
  },
  {
   "cell_type": "markdown",
   "id": "1b613fcb",
   "metadata": {},
   "source": [
    "### Define cost function, not sure if this is consistent with the cost unitary in the qaoa ansatz."
   ]
  },
  {
   "cell_type": "code",
   "execution_count": 6,
   "id": "36ca01b3",
   "metadata": {},
   "outputs": [
    {
     "name": "stdout",
     "output_type": "stream",
     "text": [
      "Logical circuit depth: 16\n"
     ]
    }
   ],
   "source": [
    "def cost_hamiltonian_paulis_op(n, v):\n",
    "    \"\"\" Construct the cost Hamiltonian as a SparsePauliOp.\"\"\"\n",
    "    # Construct the cost Hamiltonian: H_C = sum_i (v_i / 2) * (I - Z_i)\n",
    "    pauli_terms = []\n",
    "    coeffs = []\n",
    "\n",
    "    for i in range(n):\n",
    "        # Z_i term\n",
    "        z_string = ['I'] * n\n",
    "        z_string[i] = 'Z'\n",
    "        pauli_terms.append(''.join(z_string))\n",
    "        coeffs.append(-v[i]/2)  # coefficient for -Z_i\n",
    "\n",
    "    # Add the identity part: sum_i v_i / 2\n",
    "    pauli_terms.append('I' * n)\n",
    "    coeffs.append(sum(v)/2)\n",
    "\n",
    "    return SparsePauliOp.from_list(list(zip(pauli_terms, coeffs)))\n",
    "\n",
    "cost_hamiltonian = cost_hamiltonian_paulis_op(n, v)\n",
    "\n",
    "# Create QAOA ansatz using this cost Hamiltonian\n",
    "gamma =  ParameterVector('γ', p)\n",
    "beta = ParameterVector('β', p)\n",
    "optimizer_C = QKPOptimizer(v, w, c,\n",
    "                            mixer='copula_2',\n",
    "                            generate_jobs=True,\n",
    "                            run_hardware=True,\n",
    "                            backend=None,\n",
    "                            pass_manager=None,\n",
    "                            p=p,)\n",
    "\n",
    "p_dist = optimizer_C.logistic_bias(k=5)\n",
    "initial_state_qc = optimizer_C.initial_state_preparation(QuantumCircuit(n), p_dist)\n",
    "\n",
    "\n",
    "p_dist_test = np.zeros(104) # only here to ensure identity qaoa circ\n",
    "\n",
    "cost_qc = QuantumCircuit(n)\n",
    "mixer_qc = QuantumCircuit(n)\n",
    "\n",
    "cost_layer = optimizer_C.generate_cost_unitary(gamma=gamma[0])\n",
    "mixer_layer = optimizer_C.ring_copula_mixer(QuantumCircuit(n), p_dist_test,theta=-1, beta=beta[0])\n",
    "cost_qc.compose(cost_layer, inplace=True)\n",
    "mixer_qc.compose(mixer_layer, inplace=True)\n",
    "\n",
    "# Construct the QAOA ansatz with both gamma and beta vector elements\n",
    "qaoa_ansatz = QAOAAnsatz(cost_operator=cost_layer,\n",
    "                         initial_state=initial_state_qc,\n",
    "                         mixer_operator=mixer_qc,\n",
    "                         reps=p)\n",
    "\n",
    "# Remove barriers from the circuit (necessary for light cone transpilation)\n",
    "qaoa_ansatz = RemoveBarriers()(qaoa_ansatz.decompose())\n",
    "print(f\"Logical circuit depth: {qaoa_ansatz.decompose().depth(lambda x: len(x.qubits)==2)}\")\n"
   ]
  },
  {
   "cell_type": "code",
   "execution_count": 7,
   "id": "da7392d6",
   "metadata": {},
   "outputs": [
    {
     "name": "stdout",
     "output_type": "stream",
     "text": [
      "Transpiling the circuit...\n",
      "(Transpiled) Circuit depth: 4\n",
      "(Transpiled) 2Q gates depth: 0\n",
      "(Transpiled) Total 2Q gates: 0\n"
     ]
    }
   ],
   "source": [
    "nm = None\n",
    "coupling_map = backend.configuration().coupling_map\n",
    "basis_gates = backend.basis_gates\n",
    "\n",
    "# initialize noisy simulator\n",
    "estimator_mps = EstimatorV2(\n",
    "    options={\"backend_options\": {\"method\": \"matrix_product_state\",\n",
    "                                 \"noise_model\": nm,\n",
    "                                 \"coupling_map\":coupling_map,\n",
    "                                 },\n",
    "                               })\n",
    "\n",
    "sampler_mps = SamplerV2(\n",
    "    options={\"backend_options\": {\"method\": \"matrix_product_state\",\n",
    "                                 \"noise_model\": nm,\n",
    "                                 \"coupling_map\":coupling_map,\n",
    "                                 },\n",
    "                                 })\n",
    "\n",
    "print(\"Transpiling the circuit...\")\n",
    "transpiled_circuit = pm.run(qaoa_ansatz.assign_parameters([0,0]))\n",
    "\n",
    "print(f\"(Transpiled) Circuit depth: {transpiled_circuit.depth()}\")\n",
    "print(f\"(Transpiled) 2Q gates depth: {transpiled_circuit.depth(lambda x: (len(x.qubits)==2))}\")\n",
    "print(f\"(Transpiled) Total 2Q gates: {transpiled_circuit.num_nonlocal_gates()}\")"
   ]
  },
  {
   "cell_type": "code",
   "execution_count": null,
   "id": "f756b0aa",
   "metadata": {},
   "outputs": [],
   "source": [
    "from qiskit.transpiler.passes import RemoveBarriers\n",
    "\n",
    "rb = RemoveBarriers()\n",
    "\n",
    "circ = rb(initial_state_qc)\n",
    "\n",
    "xpp = pm.run(circ)\n"
   ]
  },
  {
   "cell_type": "markdown",
   "id": "07687c61",
   "metadata": {},
   "source": [
    "#### Check that the qaoa circuit is the same as the state prep circuit"
   ]
  },
  {
   "cell_type": "code",
   "execution_count": null,
   "id": "34033e18",
   "metadata": {},
   "outputs": [
    {
     "data": {
      "text/plain": [
       "True"
      ]
     },
     "execution_count": 9,
     "metadata": {},
     "output_type": "execute_result"
    }
   ],
   "source": [
    "# check that  are the same\n",
    "xpp.data == transpiled_circuit.data"
   ]
  },
  {
   "cell_type": "code",
   "execution_count": 10,
   "id": "12208fd1",
   "metadata": {},
   "outputs": [],
   "source": [
    "objective_func_vals_lc = []\n",
    "params = list(qaoa_ansatz.parameters)\n",
    "\n",
    "def compute_light_cone_circuits(ansatz, hamiltonian):\n",
    "    \"\"\"\n",
    "    Compute the light cone reduced circuits for each Pauli term in the Hamiltonian.\n",
    "    For identity terms (no active qubits), None is stored.\n",
    "    Returns a list of reduced circuits.\n",
    "    \"\"\"\n",
    "    light_cone_list = []\n",
    "    reduced_paulis = []\n",
    "    num_qubits = len(hamiltonian.paulis[0])\n",
    "\n",
    "    pbar = tqdm(total=len(hamiltonian.paulis), desc=\"Light cone computation\")\n",
    "    for i, pauli_term in enumerate(hamiltonian.paulis):\n",
    "\n",
    "        pauli_str = pauli_term.to_label()\n",
    "        active_indices = [(num_qubits-1-i) for i, p in enumerate(pauli_str) if p != \"I\"]\n",
    "\n",
    "        if not active_indices:\n",
    "            light_cone_list.append(None)\n",
    "            reduced_paulis.append(None)\n",
    "            pbar.update(1)\n",
    "            continue\n",
    "\n",
    "        t0 = time.perf_counter() # timer for the progress bar\n",
    "        lc_pass = LightCone(bit_terms=\"Z\", indices=active_indices)\n",
    "        reduced_dag = lc_pass.run(circuit_to_dag(ansatz))\n",
    "        reduced_circuit = dag_to_circuit(reduced_dag)\n",
    "        elapsed = time.perf_counter() - t0\n",
    "\n",
    "        light_cone_list.append(reduced_circuit)\n",
    "        reduced_paulis.append(pauli_term)\n",
    "\n",
    "        pbar.set_postfix(last_time=f\"{elapsed:.6f} s\")\n",
    "        pbar.update(1)\n",
    "    pbar.close()\n",
    "\n",
    "    return light_cone_list, reduced_paulis\n",
    "\n",
    "\n",
    "def cost_func_lightcone(params_values, ansatz, hamiltonian, estimator, light_cone_data):\n",
    "    \"\"\"Compute total expectation using precomputed light-cone-reduced circuits with EstimatorV2.\"\"\"\n",
    "\n",
    "    light_cone_list, reduced_paulis = light_cone_data\n",
    "    total = 0.0\n",
    "    param_dict = dict(zip(ansatz.parameters, params_values))\n",
    "\n",
    "    for i, pauli_term in enumerate(hamiltonian.paulis):\n",
    "        coeff = hamiltonian.coeffs[i].real\n",
    "        pauli_str = pauli_term.to_label()\n",
    "\n",
    "        if light_cone_list[i] is None:\n",
    "            # Handle identity term\n",
    "            total += coeff\n",
    "            continue\n",
    "\n",
    "        reduced_circuit = light_cone_list[i]\n",
    "        reduced_params = [param_dict[p] for p in reduced_circuit.parameters if p in param_dict]\n",
    "        # reduced_pauli = SparsePauliOp(pauli_str)\n",
    "\n",
    "        # Run estimator with the correct Pauli operator\n",
    "        job = estimator.run([(reduced_circuit, reduced_paulis[i], reduced_params)])\n",
    "        result = job.result()[0]\n",
    "        ev = result.data.evs\n",
    "        total += coeff * ev\n",
    "\n",
    "    objective_func_vals_lc.append(total)\n",
    "    return -total"
   ]
  },
  {
   "cell_type": "markdown",
   "id": "8d38adae",
   "metadata": {},
   "source": [
    "### Loop to find optimal parameters, not needed for the trivial qaoa case"
   ]
  },
  {
   "cell_type": "code",
   "execution_count": 14,
   "id": "4495b82f",
   "metadata": {},
   "outputs": [],
   "source": [
    "# list_reduced_circuit = []\n",
    "# params = list(qaoa_ansatz.parameters)\n",
    "\n",
    "# mapped_H_for_lc = cost_hamiltonian.apply_layout(transpiled_circuit.layout)\n",
    "# lc_data = compute_light_cone_circuits(transpiled_circuit, mapped_H_for_lc) # Pass the same circuit\n",
    "\n",
    "# plt.figure(figsize=(30, 5))\n",
    "# x_vals= []\n",
    "# y_vals = []\n",
    "# max_iter = 16\n",
    "# for i in range(max_iter):\n",
    "#     for j in range(max_iter):\n",
    "#         objective_func_vals_lc= [] \n",
    "#         init_params = [i*np.pi, 2*j*np.pi] * p\n",
    "#         # Optimize\n",
    "#         result_lc = minimize(\n",
    "#         cost_func_lightcone,\n",
    "#         init_params,\n",
    "#         args=(transpiled_circuit, mapped_H_for_lc, estimator_mps, lc_data),\n",
    "#         #method=\"COBYQA\",\n",
    "#         #bounds=[(0, np.pi), (0, 2*np.pi)] * p,\n",
    "#         tol=1e-6,\n",
    "#         options={\"maxiter\":100, \"disp\":True},\n",
    "#         callback=lambda xk: print(f\"Iteration {len(objective_func_vals_lc)}: Current params = {xk}\"),\n",
    "#         )\n",
    "#         y_vals.append(max(objective_func_vals_lc))\n",
    "#         x_vals.append((result_lc.x))\n",
    "\n",
    "    \n",
    "    \n",
    "# x_positions = list(range(len(x_vals)))  # numeric x positions\n",
    "# x_labels_str = [str(t) for t in x_vals] \n",
    "# plt.xticks(x_positions, x_labels_str)\n",
    "# plt.plot(y_vals,marker='x')\n",
    "# plt.xlabel(\"final params\")\n",
    "# plt.ylabel(\"Cost Function Value\")\n",
    "# plt.title(\"Max of Cost Function for different params\")\n",
    "# plt.grid(True)\n",
    "# plt.show()"
   ]
  },
  {
   "cell_type": "code",
   "execution_count": 15,
   "id": "c319feab",
   "metadata": {},
   "outputs": [],
   "source": [
    "#pick out best final param\n",
    "\n",
    "#[i for i in range(len(x_vals)) if y_vals[i] == np.max(y_vals)]"
   ]
  },
  {
   "cell_type": "code",
   "execution_count": 25,
   "id": "5e4e2f6b",
   "metadata": {},
   "outputs": [
    {
     "name": "stdout",
     "output_type": "stream",
     "text": [
      "Optimization Results Gurobi -- 104 items\n",
      "Bitstring: 11110110011100110001101111101101010110111001111111001111001100000111101011101001110101111010111011010001\n"
     ]
    },
    {
     "name": "stderr",
     "output_type": "stream",
     "text": [
      "Processing bitstrings: 100%|██████████| 100000/100000 [00:01<00:00, 54434.45it/s]\n"
     ]
    },
    {
     "name": "stdout",
     "output_type": "stream",
     "text": [
      "Best value: 41914\n",
      "\n",
      "Greedy Warm Start Solution\n"
     ]
    },
    {
     "name": "stderr",
     "output_type": "stream",
     "text": [
      "Processing bitstrings: 100%|██████████| 100000/100000 [00:01<00:00, 79267.75it/s]\n"
     ]
    },
    {
     "name": "stdout",
     "output_type": "stream",
     "text": [
      "\n",
      "Random Distribution Solution\n"
     ]
    },
    {
     "name": "stderr",
     "output_type": "stream",
     "text": [
      "Processing bitstrings: 100%|██████████| 100000/100000 [00:02<00:00, 46659.53it/s]\n"
     ]
    },
    {
     "name": "stdout",
     "output_type": "stream",
     "text": [
      "Best value: 38881\n"
     ]
    },
    {
     "data": {
      "image/png": "[encoded data removed]",
      "text/plain": [
       "<Figure size 800x600 with 1 Axes>"
      ]
     },
     "metadata": {},
     "output_type": "display_data"
    },
    {
     "data": {
      "text/plain": [
       "(<Figure size 800x600 with 1 Axes>,\n",
       " <Axes: title={'center': 'Distribution:inversely_strongly_correlated  [k=5]  Cap=80.0%'}, xlabel='Values', ylabel='Counts'>)"
      ]
     },
     "execution_count": 25,
     "metadata": {},
     "output_type": "execute_result"
    }
   ],
   "source": [
    "from scripts.utils.kp_utils import probabilty_success\n",
    "\n",
    "est = False\n",
    "\n",
    "if light_cone:\n",
    "    opt_circuit_lc = transpiled_circuit\n",
    "    #opt_circuit_lc = initial_state_qc\n",
    "    if est:\n",
    "        job_lc = estimator_mps.run([(opt_circuit_lc, mapped_H_for_lc)])\n",
    "    else:\n",
    "    # add measurement\n",
    "        opt_circuit_lc.measure_active()\n",
    "        job_lc = sampler_mps.run([(opt_circuit_lc,)], shots=shots)\n",
    "    \n",
    "        counts_int_lc = job_lc.result()[0].data.meas.get_int_counts()\n",
    "        counts_bin_lc = job_lc.result()[0].data.meas.get_counts()\n",
    "\n",
    "        counts_bin_lc_rev = {}\n",
    "        for key in counts_bin_lc.keys():\n",
    "            reversed_key = key[::-1]\n",
    "            counts_bin_lc_rev[reversed_key] = counts_bin_lc[key]\n",
    "    \n",
    "\n",
    "if full_circuit_optimization:\n",
    "    opt_circuit_reg = transpiled_circuit.assign_parameters(result_reg.x)\n",
    "    opt_circuit_reg.measure_active()  # add measurement\n",
    "    job_reg = sampler_mps.run([(opt_circuit_reg,)], shots=shots)\n",
    "    counts_int_reg = job_reg.result()[0].data.meas.get_int_counts()\n",
    "    counts_bin_reg = job_reg.result()[0].data.meas.get_counts()\n",
    "\n",
    "\n",
    "#Gurobi Solver Knapsack\n",
    "result_gurobi = gurobi_knapsack_solver(v, w, c, verbose=False,\n",
    "                                       time_limit=60,\n",
    "                                       optimality_gap=1e-20,\n",
    "                                       feasibility_tolerance=1e-9)\n",
    "value_opt = result_gurobi['total_value']\n",
    "print(f\"Optimization Results Gurobi -- {n} items\")\n",
    "print(f\"Bitstring: {result_gurobi['bitstring']}\")\n",
    "\n",
    "\n",
    "filter_sols = True\n",
    "if not est:\n",
    "    if light_cone:\n",
    "        dict_bit_values_lc_rev = convert_bitstring_to_values(counts_bin_lc_rev, v, w, c,\n",
    "                                            filter_invalid_solutions=filter_sols)\n",
    "\n",
    "    #Sort the dictionary by value\n",
    "    sorted_dict = dict(sorted(dict_bit_values_lc_rev.items(), key=lambda item: item[0], reverse=True))\n",
    "    best_value = max(sorted_dict.keys())\n",
    "    best_count = sorted_dict[best_value]\n",
    "    print(f\"Best value: {best_value}\")\n",
    "\n",
    "    aprox_ratio = compute_approximate_ratio(dict_bit_values_lc_rev, value_opt)\n",
    "\n",
    "\n",
    "print(\"\\nGreedy Warm Start Solution\")\n",
    "\n",
    "def logistic_bias(v, w, c, k):\n",
    "    \"\"\"Creates a biased initial distribution using the logistic function.\"\"\"\n",
    "    r = np.array(v) / np.array(w)\n",
    "    C = (sum(w) / c) - 1\n",
    "    return 1 / (1 + C * np.exp(-k * (r - r.mean())))\n",
    "\n",
    "# Calculate probabilities using logistic_bias\n",
    "r = v/w # Calculate r_i = v_i/w_i ratios\n",
    "\n",
    "warm_start_counts = defaultdict(int)\n",
    "\n",
    "for _ in range(shots):\n",
    "    bitstring = ''.join(str(int(np.random.random() < pi)) for pi in p_dist)\n",
    "    warm_start_counts[bitstring] += 1\n",
    "\n",
    "# Convert to value distribution\n",
    "dict_bit_values_ws = convert_bitstring_to_values(warm_start_counts, v, w, c,\n",
    "                                                   filter_invalid_solutions=filter_sols)\n",
    "\n",
    "# Compute the probability of sucess\n",
    "p_sucess_ws= probabilty_success(dict_bit_values_ws, value_opt)\n",
    "aprox_ratio_ws = compute_approximate_ratio(dict_bit_values_ws, value_opt)\n",
    "\n",
    "print(\"\\nRandom Distribution Solution\")\n",
    "\n",
    "random_counts = defaultdict(int) # generate dict with default value of 0\n",
    "for _ in range(shots):\n",
    "    bitstring = ''.join(str(x) for x in np.random.randint(2, size=n))\n",
    "    random_counts[bitstring] += 1\n",
    "\n",
    "dict_bit_values_random = convert_bitstring_to_values(random_counts, v, w, c,\n",
    "                                                     filter_invalid_solutions=filter_sols)\n",
    "\n",
    "# Compute the probability of sucess\n",
    "aprox_ratio_random = compute_approximate_ratio(dict_bit_values_random, value_opt)\n",
    "print(f\"Best value: {max(dict_bit_values_random.keys())}\")\n",
    "\n",
    "data_dict = {\n",
    "f\"Random: Apr={aprox_ratio_random:.2f}\": dict_bit_values_random,\n",
    "   f\"WS: Apr={aprox_ratio_ws:.3f}\": dict_bit_values_ws,\n",
    "   f\"Cop p=1: Apr={aprox_ratio:.3f}\": dict_bit_values_lc_rev,\n",
    "}\n",
    "# Custom colors\n",
    "colors = {\n",
    "    f\"Random: Apr={aprox_ratio_random:.2f}\": \"orange\",\n",
    "    f\"WS: Apr={aprox_ratio_ws:.3f}\": 'black',\n",
    "    f\"Cop p=1: Apr={aprox_ratio:.3f}\": \"steelblue\",\n",
    "}    \n",
    "# Annotations\n",
    "annotations = {\n",
    "   r\"$\\mathrm{Approximate\\ Ratio}$\": np.round(aprox_ratio, 2),\n",
    "   \"Ratio optimality (%)\": np.round(best_value /value_opt *100, 2),\n",
    "}\n",
    "plot_multiple_distributions(\n",
    "    data_dict=data_dict,\n",
    "    min_cost=value_opt,\n",
    "    colors=colors,\n",
    "    nb_bins=2000,\n",
    "    log=False,\n",
    "    annotations=annotations,\n",
    "    figsize=(8, 6),\n",
    "    title=f\"Distribution:{func_distribution.__name__[9:]}  [k={k_range}]  Cap={load_factor*100}%\"\n",
    ")\n"
   ]
  },
  {
   "cell_type": "markdown",
   "id": "ba59d4c3",
   "metadata": {},
   "source": [
    "#### Compare the best warm start value with the best qaoa value"
   ]
  },
  {
   "cell_type": "code",
   "execution_count": 26,
   "id": "e5665f8c",
   "metadata": {},
   "outputs": [
    {
     "name": "stdout",
     "output_type": "stream",
     "text": [
      "QAOA best value :41914\n",
      "WS Best value: 42554\n"
     ]
    }
   ],
   "source": [
    "print(f\"QAOA best value :{max(dict_bit_values_lc_rev.keys())}\")\n",
    "\n",
    "print(f\"WS Best value: {max(dict_bit_values_ws.keys())}\")"
   ]
  }
 ],
 "metadata": {
  "kernelspec": {
   "display_name": "uc",
   "language": "python",
   "name": "python3"
  },
  "language_info": {
   "codemirror_mode": {
    "name": "ipython",
    "version": 3
   },
   "file_extension": ".py",
   "mimetype": "text/x-python",
   "name": "python",
   "nbconvert_exporter": "python",
   "pygments_lexer": "ipython3",
   "version": "3.13.3"
  }
 },
 "nbformat": 4,
 "nbformat_minor": 5
}
